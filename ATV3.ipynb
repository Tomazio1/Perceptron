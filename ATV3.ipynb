{
  "nbformat": 4,
  "nbformat_minor": 0,
  "metadata": {
    "colab": {
      "provenance": [],
      "authorship_tag": "ABX9TyOCZ37CFvnRXI5zDTtUmtG8",
      "include_colab_link": true
    },
    "kernelspec": {
      "name": "python3",
      "display_name": "Python 3"
    },
    "language_info": {
      "name": "python"
    }
  },
  "cells": [
    {
      "cell_type": "markdown",
      "metadata": {
        "id": "view-in-github",
        "colab_type": "text"
      },
      "source": [
        "<a href=\"https://colab.research.google.com/github/Tomazio1/Perceptron/blob/main/ATV3.ipynb\" target=\"_parent\"><img src=\"https://colab.research.google.com/assets/colab-badge.svg\" alt=\"Open In Colab\"/></a>"
      ]
    },
    {
      "cell_type": "code",
      "execution_count": 5,
      "metadata": {
        "colab": {
          "base_uri": "https://localhost:8080/"
        },
        "id": "WowsvNh4lRRC",
        "outputId": "71f630e3-7a55-4d72-a944-111c92dfcb7d"
      },
      "outputs": [
        {
          "output_type": "stream",
          "name": "stdout",
          "text": [
            "Previsões:\n",
            "Cansado: 0, Ingredientes: 1 ,Restaurante aberto: 1 ,Pagamento recente: 1 => Será que vou ao parque? Não\n",
            "Cansado: 1, Ingredientes: 0 ,Restaurante aberto: 1 ,Pagamento recente: 1 => Será que vou ao parque? Sim\n",
            "Cansado: 1, Ingredientes: 1 ,Restaurante aberto: 0 ,Pagamento recente: 1 => Será que vou ao parque? Não\n",
            "Cansado: 0, Ingredientes: 0 ,Restaurante aberto: 1 ,Pagamento recente: 0 => Será que vou ao parque? Sim\n",
            "Cansado: 1, Ingredientes: 1 ,Restaurante aberto: 1 ,Pagamento recente: 1 => Será que vou ao parque? Sim\n",
            "Cansado: 0, Ingredientes: 1 ,Restaurante aberto: 0 ,Pagamento recente: 0 => Será que vou ao parque? Não\n",
            "Cansado: 1, Ingredientes: 0 ,Restaurante aberto: 0 ,Pagamento recente: 1 => Será que vou ao parque? Não\n",
            "Cansado: 0, Ingredientes: 0 ,Restaurante aberto: 0 ,Pagamento recente: 1 => Será que vou ao parque? Não\n"
          ]
        }
      ],
      "source": [
        "\n",
        "from sklearn.linear_model import Perceptron\n",
        "\n",
        "\n",
        "X = [[0, 1, 1, 1], [1, 0, 1, 1], [1, 1, 0, 1], [0, 0, 1, 0], [1, 1, 1, 1], [0, 1, 0, 0], [1, 0, 0, 1], [0, 0, 0, 1]]\n",
        "\n",
        "Y= [0, 1, 0, 1, 1, 0, 0, 0]\n",
        "\n",
        "\n",
        "\n",
        "modelo = Perceptron()\n",
        "modelo.fit(X, Y)\n",
        "\n",
        "\n",
        "print(\"Previsões:\")\n",
        "\n",
        "testes = [[0, 1, 1, 1], [1, 0, 1, 1], [1, 1, 0, 1], [0, 0, 1, 0], [1, 1, 1, 1], [0, 1, 0, 0], [1, 0, 0, 1], [0, 0, 0, 1]]\n",
        "\n",
        "for teste in testes:\n",
        "  previsao = modelo.predict([teste])\n",
        "  print(f\"Cansado: {teste[0]}, Ingredientes: {teste[1]} ,Restaurante aberto: {teste[2]} ,Pagamento recente: {teste[3]} => Será que vou ao parque? {'Sim' if previsao[0] == 1 else 'Não'}\")"
      ]
    }
  ]
}