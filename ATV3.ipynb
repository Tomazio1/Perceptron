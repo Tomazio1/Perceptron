{
  "nbformat": 4,
  "nbformat_minor": 0,
  "metadata": {
    "colab": {
      "provenance": [],
      "authorship_tag": "ABX9TyMcUVhwRRoZizYxuUY95G7C",
      "include_colab_link": true
    },
    "kernelspec": {
      "name": "python3",
      "display_name": "Python 3"
    },
    "language_info": {
      "name": "python"
    }
  },
  "cells": [
    {
      "cell_type": "markdown",
      "metadata": {
        "id": "view-in-github",
        "colab_type": "text"
      },
      "source": [
        "<a href=\"https://colab.research.google.com/github/Tomazio1/Perceptron/blob/main/ATV3.ipynb\" target=\"_parent\"><img src=\"https://colab.research.google.com/assets/colab-badge.svg\" alt=\"Open In Colab\"/></a>"
      ]
    },
    {
      "cell_type": "code",
      "execution_count": 9,
      "metadata": {
        "colab": {
          "base_uri": "https://localhost:8080/"
        },
        "id": "WowsvNh4lRRC",
        "outputId": "c6f052f6-b5f9-45f5-84ee-21c1f6c49068"
      },
      "outputs": [
        {
          "output_type": "stream",
          "name": "stdout",
          "text": [
            "Previsões:\n",
            "Cansado: 0, Ingredientes: 1 ,Restaurante aberto: 1 ,Restaurante aberto: 1 => Comer fora? Não\n",
            "Cansado: 1, Ingredientes: 0 ,Restaurante aberto: 1 ,Restaurante aberto: 1 => Comer fora? Sim\n",
            "Cansado: 1, Ingredientes: 1 ,Restaurante aberto: 0 ,Restaurante aberto: 1 => Comer fora? Não\n",
            "Cansado: 0, Ingredientes: 0 ,Restaurante aberto: 1 ,Restaurante aberto: 0 => Comer fora? Sim\n",
            "Cansado: 1, Ingredientes: 1 ,Restaurante aberto: 1 ,Restaurante aberto: 1 => Comer fora? Sim\n",
            "Cansado: 0, Ingredientes: 1 ,Restaurante aberto: 0 ,Restaurante aberto: 0 => Comer fora? Não\n",
            "Cansado: 1, Ingredientes: 0 ,Restaurante aberto: 0 ,Restaurante aberto: 1 => Comer fora? Não\n",
            "Cansado: 0, Ingredientes: 0 ,Restaurante aberto: 0 ,Restaurante aberto: 1 => Comer fora? Não\n"
          ]
        }
      ],
      "source": [
        "\n",
        "from sklearn.linear_model import Perceptron\n",
        "\n",
        "\n",
        "X = [[0, 1, 1, 1], [1, 0, 1, 1], [1, 1, 0, 1], [0, 0, 1, 0], [1, 1, 1, 1], [0, 1, 0, 0], [1, 0, 0, 1], [0, 0, 0, 1]]\n",
        "\n",
        "Y= [0, 1, 0, 1, 1, 0, 0, 0]\n",
        "\n",
        "\n",
        "\n",
        "modelo = Perceptron()\n",
        "modelo.fit(X, Y)\n",
        "\n",
        "\n",
        "print(\"Previsões:\")\n",
        "\n",
        "testes = [[0, 1, 1, 1], [1, 0, 1, 1], [1, 1, 0, 1], [0, 0, 1, 0], [1, 1, 1, 1], [0, 1, 0, 0], [1, 0, 0, 1], [0, 0, 0, 1]]\n",
        "\n",
        "for teste in testes:\n",
        "  previsao = modelo.predict([teste])\n",
        "  print(f\"Cansado: {teste[0]}, Ingredientes: {teste[1]} ,Restaurante aberto: {teste[2]} ,Restaurante aberto: {teste[3]} => Comer fora? {'Sim' if previsao[0] == 1 else 'Não'}\")"
      ]
    }
  ]
}