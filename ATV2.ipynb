{
  "nbformat": 4,
  "nbformat_minor": 0,
  "metadata": {
    "colab": {
      "provenance": [],
      "authorship_tag": "ABX9TyMD1IRsugCaM26vIAvCdDvJ",
      "include_colab_link": true
    },
    "kernelspec": {
      "name": "python3",
      "display_name": "Python 3"
    },
    "language_info": {
      "name": "python"
    }
  },
  "cells": [
    {
      "cell_type": "markdown",
      "metadata": {
        "id": "view-in-github",
        "colab_type": "text"
      },
      "source": [
        "<a href=\"https://colab.research.google.com/github/Tomazio1/Perceptron/blob/main/ATV2.ipynb\" target=\"_parent\"><img src=\"https://colab.research.google.com/assets/colab-badge.svg\" alt=\"Open In Colab\"/></a>"
      ]
    },
    {
      "cell_type": "code",
      "execution_count": 10,
      "metadata": {
        "colab": {
          "base_uri": "https://localhost:8080/"
        },
        "id": "WowsvNh4lRRC",
        "outputId": "e9227b6e-adaa-43cf-90c9-dd506f2ab1c4"
      },
      "outputs": [
        {
          "output_type": "stream",
          "name": "stdout",
          "text": [
            "Previsões:\n",
            "Ensolarado: 0, Final de semana: 0, Parque lotado: 0 => Será que vou ao parque? Não\n",
            "Ensolarado: 0, Final de semana: 1, Parque lotado: 0 => Será que vou ao parque? Sim\n",
            "Ensolarado: 1, Final de semana: 0, Parque lotado: 0 => Será que vou ao parque? Sim\n",
            "Ensolarado: 1, Final de semana: 1, Parque lotado: 0 => Será que vou ao parque? Sim\n",
            "Ensolarado: 0, Final de semana: 0, Parque lotado: 1 => Será que vou ao parque? Não\n",
            "Ensolarado: 0, Final de semana: 1, Parque lotado: 1 => Será que vou ao parque? Não\n",
            "Ensolarado: 1, Final de semana: 0, Parque lotado: 1 => Será que vou ao parque? Não\n",
            "Ensolarado: 1, Final de semana: 1, Parque lotado: 1 => Será que vou ao parque? Não\n"
          ]
        }
      ],
      "source": [
        "from sklearn.linear_model import Perceptron\n",
        "\n",
        "\n",
        "X = [[0, 0, 0], [0, 1,0], [1, 0, 0], [1, 1, 0], [0, 0, 1], [0, 1, 1], [1, 0, 1], [1, 1, 1]]\n",
        "\n",
        "Y= [0, 1, 1, 1, 0, 0, 0, 0]\n",
        "\n",
        "\n",
        "\n",
        "modelo = Perceptron()\n",
        "modelo.fit(X, Y)\n",
        "\n",
        "\n",
        "print(\"Previsões:\")\n",
        "\n",
        "testes = [[0, 0, 0], [0, 1,0], [1, 0, 0], [1, 1, 0], [0, 0, 1], [0, 1, 1], [1, 0, 1], [1, 1, 1]]\n",
        "\n",
        "for teste in testes:\n",
        "  previsao = modelo.predict([teste])\n",
        "  print(f\"Ensolarado: {teste[0]}, Final de semana: {teste[1]}, Parque lotado: {teste[2]} => Será que vou ao parque? {'Sim' if previsao[0] == 1 else 'Não'}\")"
      ]
    }
  ]
}